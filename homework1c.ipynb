{
 "cells": [
  {
   "cell_type": "markdown",
   "metadata": {},
   "source": [
    "# Homework 1 - Algebra lineare numerica"
   ]
  },
  {
   "cell_type": "markdown",
   "metadata": {},
   "source": [
    "## 3. Minimi quadrati\n",
    "\n",
    "\n",
    "Assegnata una matrice $A$ di numeri casuali(funzione np.random.normal)\n",
    "di dimensione $m × n$, $m > n$ fissati, scegliere un vettore $α$ (per esempio\n",
    "con elementi costanti) come soluzione esatta per creare un problema test e\n",
    "calcolare il termine noto $y = Aα+v$, dove $v$ è un vettore di numeri casuali\n",
    "generato con la funzione precedente (utilizzare una varianza in $[0.01,0.1]$)."
   ]
  },
  {
   "cell_type": "code",
   "execution_count": 20,
   "metadata": {},
   "outputs": [],
   "source": [
    "import numpy as np\n",
    "\n",
    "# Parametri del problema\n",
    "m, n = 50, 10  # Dimensioni della matrice A (m > n)\n",
    "\n",
    "# Creazione della matrice A e del vettore α\n",
    "A = np.random.normal(size=(m, n))  # Matrice A casuale\n",
    "alpha_true = np.ones(n)  # Vettore α esatto con elementi constanti\n",
    "\n",
    "# Creazione del termine noto y\n",
    "v = np.random.normal(scale=np.sqrt(np.random.uniform(0.01, 0.1)), size=m)  # Rumore casuale\n",
    "y = A @ alpha_true + v  # Termine noto y"
   ]
  },
  {
   "cell_type": "markdown",
   "metadata": {},
   "source": [
    "Quindi risolvere il problema di minimi quadrati :\n",
    "$$\n",
    "\\min_{α}||Aα − y||_2^2\n",
    "$$\n",
    "sia utilizzando le equazioni normali che la SVD di $A$.\n",
    "- Confrontare le due soluzioni.\n",
    "- Calcolare la norma due del vettore dei residui in entrambi i casi"
   ]
  },
  {
   "cell_type": "code",
   "execution_count": 21,
   "metadata": {},
   "outputs": [
    {
     "name": "stdout",
     "output_type": "stream",
     "text": [
      "Soluzione con equazioni normali: \n",
      " [0.97122372 0.96636982 0.96771639 1.01227954 1.0041719  1.00485177\n",
      " 1.00224907 1.0000503  1.01316106 0.98940819]\n",
      "Soluzione con SVD: \n",
      " [0.97122372 0.96636982 0.96771639 1.01227954 1.0041719  1.00485177\n",
      " 1.00224907 1.0000503  1.01316106 0.98940819]\n",
      "\n",
      "Norma 2 dei residui con equazioni normali: 0.7637981367670149\n",
      "Norma 2 dei residui con SVD: 0.7637981367670151\n"
     ]
    }
   ],
   "source": [
    "# Risoluzione con equazioni normali\n",
    "alpha_norm = np.linalg.inv(A.T @ A) @ (A.T @ y)\n",
    "residual_norm = np.linalg.norm(A @ alpha_norm - y)\n",
    "\n",
    "# Risoluzione con SVD\n",
    "U, S, VT = np.linalg.svd(A, full_matrices=False)\n",
    "S_inv = np.diag(1 / S)\n",
    "alpha_svd = VT.T @ S_inv @ (U.T @ y)\n",
    "residual_svd = np.linalg.norm(A @ alpha_svd - y)\n",
    "\n",
    "# Confronto dei risultati\n",
    "print(\"Soluzione con equazioni normali: \\n\", alpha_norm)\n",
    "print(\"Soluzione con SVD: \\n\", alpha_svd)\n",
    "print(\"\\nNorma 2 dei residui con equazioni normali:\", residual_norm)\n",
    "print(\"Norma 2 dei residui con SVD:\", residual_svd)\n"
   ]
  }
 ],
 "metadata": {
  "kernelspec": {
   "display_name": "base",
   "language": "python",
   "name": "python3"
  },
  "language_info": {
   "codemirror_mode": {
    "name": "ipython",
    "version": 3
   },
   "file_extension": ".py",
   "mimetype": "text/x-python",
   "name": "python",
   "nbconvert_exporter": "python",
   "pygments_lexer": "ipython3",
   "version": "3.12.2"
  }
 },
 "nbformat": 4,
 "nbformat_minor": 2
}
